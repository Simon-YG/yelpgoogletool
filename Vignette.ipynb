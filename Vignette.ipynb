{
 "cells": [
  {
   "cell_type": "markdown",
   "metadata": {},
   "source": [
    "# A user-guide for `yelpgoogletool`"
   ]
  },
  {
   "cell_type": "markdown",
   "metadata": {},
   "source": [
    "This package aim to help its users find their ideal dinner places. It offers assistance such as:\n",
    " * searching for specific restaurants in their neighborhood;\n",
    " * reporting use information like Yelp ratings and customer reviews to help users decide their dinner places;\n",
    " * ranking a list of restaurants and reporting the best ones by various criteria;\n",
    " * generating a navigation sheet to guide the users to the restaurant they choose.\n",
    "\n",
    "In this vignette, I will demonstrate how these functionalities can be realized."
   ]
  },
  {
   "cell_type": "markdown",
   "metadata": {},
   "source": [
    "## 1. Installation"
   ]
  },
  {
   "cell_type": "code",
   "execution_count": 1,
   "metadata": {
    "collapsed": true
   },
   "outputs": [
    {
     "name": "stdout",
     "output_type": "stream",
     "text": [
      "Collecting yelpgoogletool\n",
      "  Cloning http://github.com/Simon-YG/yelpgoogletool.git to /private/var/folders/0z/hzm096lj0ln93813ky30xn1w0000gn/T/pip-install-f55hvxhd/yelpgoogletool_f26b86e91fe54f3aad7549bdae81de30\n",
      "  Installing build dependencies ... \u001b[?25ldone\n",
      "\u001b[?25h  Getting requirements to build wheel ... \u001b[?25ldone\n",
      "\u001b[?25h    Preparing wheel metadata ... \u001b[?25ldone\n",
      "\u001b[?25hRequirement already satisfied: pandas<2.0.0,>=1.1.5 in /Users/ganyuan/.pyenv/versions/3.8.2/lib/python3.8/site-packages (from yelpgoogletool) (1.1.5)\n",
      "Requirement already satisfied: geocoder<2.0.0,>=1.38.1 in /Users/ganyuan/.pyenv/versions/3.8.2/lib/python3.8/site-packages (from yelpgoogletool) (1.38.1)\n",
      "Requirement already satisfied: requests<3.0.0,>=2.25.0 in /Users/ganyuan/.pyenv/versions/3.8.2/lib/python3.8/site-packages (from yelpgoogletool) (2.25.0)\n",
      "Requirement already satisfied: six in /Users/ganyuan/.pyenv/versions/3.8.2/lib/python3.8/site-packages (from geocoder<2.0.0,>=1.38.1->yelpgoogletool) (1.15.0)\n",
      "Requirement already satisfied: ratelim in /Users/ganyuan/.pyenv/versions/3.8.2/lib/python3.8/site-packages (from geocoder<2.0.0,>=1.38.1->yelpgoogletool) (0.1.6)\n",
      "Requirement already satisfied: click in /Users/ganyuan/.pyenv/versions/3.8.2/lib/python3.8/site-packages (from geocoder<2.0.0,>=1.38.1->yelpgoogletool) (7.1.2)\n",
      "Requirement already satisfied: future in /Users/ganyuan/.pyenv/versions/3.8.2/lib/python3.8/site-packages (from geocoder<2.0.0,>=1.38.1->yelpgoogletool) (0.18.2)\n",
      "Requirement already satisfied: numpy>=1.15.4 in /Users/ganyuan/.pyenv/versions/3.8.2/lib/python3.8/site-packages (from pandas<2.0.0,>=1.1.5->yelpgoogletool) (1.19.2)\n",
      "Requirement already satisfied: python-dateutil>=2.7.3 in /Users/ganyuan/.pyenv/versions/3.8.2/lib/python3.8/site-packages (from pandas<2.0.0,>=1.1.5->yelpgoogletool) (2.8.1)\n",
      "Requirement already satisfied: pytz>=2017.2 in /Users/ganyuan/.pyenv/versions/3.8.2/lib/python3.8/site-packages (from pandas<2.0.0,>=1.1.5->yelpgoogletool) (2020.1)\n",
      "Requirement already satisfied: idna<3,>=2.5 in /Users/ganyuan/.pyenv/versions/3.8.2/lib/python3.8/site-packages (from requests<3.0.0,>=2.25.0->yelpgoogletool) (2.10)\n",
      "Requirement already satisfied: certifi>=2017.4.17 in /Users/ganyuan/.pyenv/versions/3.8.2/lib/python3.8/site-packages (from requests<3.0.0,>=2.25.0->yelpgoogletool) (2020.6.20)\n",
      "Requirement already satisfied: chardet<4,>=3.0.2 in /Users/ganyuan/.pyenv/versions/3.8.2/lib/python3.8/site-packages (from requests<3.0.0,>=2.25.0->yelpgoogletool) (3.0.4)\n",
      "Requirement already satisfied: urllib3<1.27,>=1.21.1 in /Users/ganyuan/.pyenv/versions/3.8.2/lib/python3.8/site-packages (from requests<3.0.0,>=2.25.0->yelpgoogletool) (1.25.10)\n",
      "Requirement already satisfied: decorator in /Users/ganyuan/.pyenv/versions/3.8.2/lib/python3.8/site-packages (from ratelim->geocoder<2.0.0,>=1.38.1->yelpgoogletool) (4.4.2)\n"
     ]
    }
   ],
   "source": [
    "# Install from github\n",
    "!pip install git+http://github.com/Simon-YG/yelpgoogletool.git#egg=yelpgoogletool"
   ]
  },
  {
   "cell_type": "markdown",
   "metadata": {},
   "source": [
    "## 2. Get your tokens\n",
    "\n",
    "In order to make full use of this package, the users should get their own tokens for [Yelp Fusion API](https://www.yelp.com/developers/documentation/v3) and [Google Direction API](https://developers.google.com/maps/documentation/directions).  It is recommended to save the keys in environment vairables by running the following commands.\n",
    "\n",
    "```\n",
    "export POETRY_YELP_KEY=<Your key for Yelp Fusion API>\n",
    "export POETRY_GOOGLE_KEY=<Your key for Google Direction API>\n",
    "```\n",
    "\n",
    "This will save you the energy to manually input the keys upon importing the package."
   ]
  },
  {
   "cell_type": "markdown",
   "metadata": {},
   "source": [
    "## 3. Import the package"
   ]
  },
  {
   "cell_type": "markdown",
   "metadata": {},
   "source": [
    "To import the package, simply run the following codes. If the keys are not found in the environment the users will be asked to input their keys manually."
   ]
  },
  {
   "cell_type": "code",
   "execution_count": 6,
   "metadata": {},
   "outputs": [
    {
     "name": "stdout",
     "output_type": "stream",
     "text": [
      "Please input your Google API key.\n",
      "········\n",
      "Please input your Yelp Fusion API key.\n",
      "········\n"
     ]
    }
   ],
   "source": [
    "# Import the package\n",
    "from yelpgoogletool import yelpgoogletool"
   ]
  },
  {
   "cell_type": "markdown",
   "metadata": {},
   "source": [
    "## 4. Functions in `yelpgoogletool`"
   ]
  },
  {
   "cell_type": "markdown",
   "metadata": {},
   "source": [
    "### 4.1. ``"
   ]
  }
 ],
 "metadata": {
  "kernelspec": {
   "display_name": "Python 3",
   "language": "python",
   "name": "python3"
  },
  "language_info": {
   "codemirror_mode": {
    "name": "ipython",
    "version": 3
   },
   "file_extension": ".py",
   "mimetype": "text/x-python",
   "name": "python",
   "nbconvert_exporter": "python",
   "pygments_lexer": "ipython3",
   "version": "3.8.2"
  }
 },
 "nbformat": 4,
 "nbformat_minor": 4
}
